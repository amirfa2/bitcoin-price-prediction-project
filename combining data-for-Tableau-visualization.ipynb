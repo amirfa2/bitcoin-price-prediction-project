{
 "cells": [
  {
   "cell_type": "code",
   "execution_count": 5,
   "id": "031f12cf-7301-4ad4-85d2-dc0901b98245",
   "metadata": {},
   "outputs": [],
   "source": [
    "import pandas as pd\n",
    "\n",
    "# Load the Bitcoin dataset\n",
    "bitcoin_df = pd.read_csv(r'C:\\Users\\M\\Desktop\\ironhacker\\final-project\\final2.csv', parse_dates=['date'])\n",
    "\n",
    "# Load the Apple dataset and parse dates\n",
    "apple_df = pd.read_csv(r'C:\\Users\\M\\Desktop\\ironhacker\\final-project\\AAPL Historical Data.csv', parse_dates=['Date'])\n",
    "\n",
    "# Rename columns for consistency\n",
    "bitcoin_df.columns = ['date', 'btc_open', 'btc_high', 'btc_low', 'btc_close', 'btc_volume', 'btc_total_value', 'btc_wprice']\n",
    "apple_df.columns = ['date', 'aapl_wprice', 'aapl_open', 'aapl_high', 'aapl_low', 'aapl_volume', 'aapl_change_pct']\n",
    "\n",
    "\n",
    "# Convert 'aapl_volume' to a numeric value\n",
    "def convert_volume(volume):\n",
    "    if isinstance(volume, str):  # Check if volume is a string\n",
    "        if 'M' in volume:\n",
    "            return float(volume.replace('M', '')) * 1_000_000\n",
    "        elif 'K' in volume:\n",
    "            return float(volume.replace('K', '')) * 1_000\n",
    "    return volume  # Return as is if it's already a numeric type\n",
    "\n",
    "# Apply the conversion function\n",
    "apple_df['aapl_volume'] = apple_df['aapl_volume'].apply(convert_volume)\n",
    "\n",
    "# Fill any NaN values using forward fill method and then convert to integer\n",
    "apple_df['aapl_volume'] = apple_df['aapl_volume'].fillna(method='ffill').astype(int)\n",
    "\n",
    "# Merge data on date\n",
    "combined_df = pd.merge(bitcoin_df, apple_df, on='date', how='inner')\n",
    "\n",
    "\n",
    "# Save the combined dataset to a CSV file for Tableau\n",
    "combined_df.to_csv(r'C:\\Users\\M\\Desktop\\ironhacker\\final-project\\Tableau-final.csv', index=False)"
   ]
  },
  {
   "cell_type": "code",
   "execution_count": null,
   "id": "7a31987a-54b7-4b69-b2a3-a7e2d9769271",
   "metadata": {},
   "outputs": [],
   "source": []
  }
 ],
 "metadata": {
  "kernelspec": {
   "display_name": "Python 3",
   "language": "python",
   "name": "python3"
  },
  "language_info": {
   "codemirror_mode": {
    "name": "ipython",
    "version": 3
   },
   "file_extension": ".py",
   "mimetype": "text/x-python",
   "name": "python",
   "nbconvert_exporter": "python",
   "pygments_lexer": "ipython3",
   "version": "3.8.8"
  }
 },
 "nbformat": 4,
 "nbformat_minor": 5
}
